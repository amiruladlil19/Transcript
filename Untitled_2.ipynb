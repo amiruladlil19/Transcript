{
 "cells": [
  {
   "cell_type": "code",
   "execution_count": 1,
   "id": "7db4c0c7",
   "metadata": {},
   "outputs": [],
   "source": [
    "import os\n",
    "import speech_recognition as sr\n",
    "import ffmpeg\n",
    "from mutagen.wave import WAVE\n",
    "from moviepy.editor import *\n",
    "import pandas as pd\n",
    "from pydub import AudioSegment\n"
   ]
  },
  {
   "cell_type": "code",
   "execution_count": 4,
   "id": "6e81ecf0",
   "metadata": {
    "scrolled": true
   },
   "outputs": [
    {
     "name": "stdout",
     "output_type": "stream",
     "text": [
      "MoviePy - Writing audio in video1874032976.wav\n"
     ]
    },
    {
     "name": "stderr",
     "output_type": "stream",
     "text": [
      "                                                                                                                       "
     ]
    },
    {
     "name": "stdout",
     "output_type": "stream",
     "text": [
      "MoviePy - Done.\n"
     ]
    },
    {
     "name": "stderr",
     "output_type": "stream",
     "text": [
      "\r"
     ]
    }
   ],
   "source": [
    "sound = AudioFileClip(\"video1874032976.mp4\")\n",
    "sound.write_audiofile(\"video1874032976.wav\")"
   ]
  },
  {
   "cell_type": "code",
   "execution_count": 5,
   "id": "2e99640e",
   "metadata": {},
   "outputs": [
    {
     "name": "stdout",
     "output_type": "stream",
     "text": [
      "succeed\n",
      "succeed\n",
      "succeed\n",
      "succeed\n",
      "succeed\n",
      "succeed\n",
      "succeed\n",
      "succeed\n",
      "succeed\n",
      "succeed\n",
      "succeed\n",
      "succeed\n",
      "succeed\n",
      "succeed\n",
      "succeed\n",
      "succeed\n",
      "succeed\n",
      "succeed\n",
      "succeed\n",
      "succeed\n",
      "succeed\n",
      "succeed\n",
      "succeed\n",
      "succeed\n",
      "succeed\n",
      "succeed\n",
      "succeed\n",
      "succeed\n",
      "succeed\n",
      "succeed\n",
      "succeed\n",
      "succeed\n",
      "succeed\n",
      "succeed\n",
      "succeed\n",
      "succeed\n",
      "succeed\n",
      "succeed\n",
      "succeed\n",
      "succeed\n",
      "succeed\n",
      "succeed\n",
      "succeed\n",
      "succeed\n",
      "succeed\n",
      "succeed\n",
      "succeed\n",
      "succeed\n",
      "succeed\n",
      "succeed\n",
      "succeed\n",
      "succeed\n",
      "succeed\n",
      "succeed\n",
      "succeed\n",
      "succeed\n",
      "succeed\n",
      "succeed\n",
      "succeed\n",
      "succeed\n",
      "succeed\n",
      "succeed\n",
      "succeed\n",
      "succeed\n",
      "succeed\n",
      "succeed\n",
      "succeed\n",
      "succeed\n",
      "succeed\n",
      "succeed\n",
      "succeed\n",
      "succeed\n",
      "succeed\n",
      "succeed\n",
      "succeed\n",
      "succeed\n",
      "succeed\n",
      "succeed\n",
      "succeed\n",
      "succeed\n",
      "succeed\n",
      "succeed\n",
      "succeed\n",
      "succeed\n",
      "succeed\n",
      "succeed\n"
     ]
    }
   ],
   "source": [
    "def convert(seconds):\n",
    "    seconds = seconds % (24 * 3600)\n",
    "    hour = seconds // 3600\n",
    "    seconds %= 3600\n",
    "    minutes = seconds // 60\n",
    "    seconds %= 60\n",
    "     \n",
    "    return \"%d:%02d:%02d\" % (hour, minutes, seconds)\n",
    "\n",
    "def wav2ytext(language, dur, wavn, exceln):\n",
    "    audio = WAVE(wavn)\n",
    "    audio_info = audio.info\n",
    "    length = int(audio_info.length)\n",
    "\n",
    "    audio_source = sr.AudioFile(wavn)\n",
    "    transcript = []\n",
    "    seconds = []\n",
    "    timestamps = []\n",
    "    \n",
    "    se = 0\n",
    "    r = sr.Recognizer()\n",
    "    \n",
    "    iteration = length/dur\n",
    "    \n",
    "    with audio_source as source:\n",
    "        \n",
    "            for i in range(round(iteration)):\n",
    "                audio0 = r.record(source, duration=dur)\n",
    "            \n",
    "# audio = r.listen(source)\n",
    "                transcript.append(r.recognize_google(audio0, language=language))\n",
    "                if i == (round(iteration)+1):\n",
    "                    seconds.append(length%dur)\n",
    "                else:\n",
    "                    seconds.append(dur)\n",
    "                    \n",
    "                if i == 0:\n",
    "                    timestamps.append(convert(se))\n",
    "                else:\n",
    "                    se = se + seconds[i-1]\n",
    "                    timestamps.append(convert(se))\n",
    "                print('succeed')\n",
    "            df = pd.DataFrame(list(zip(timestamps, transcript)),\n",
    "                   columns =['Timestamps', 'Transcripts'])\n",
    "            df.to_excel(exceln)\n",
    "            \n",
    "        \n",
    "    \n",
    "\n",
    "wav2ytext(\"id-ID\", 50, 'video1874032976.wav', 'video1874032976.xlsx')\n"
   ]
  },
  {
   "cell_type": "code",
   "execution_count": null,
   "id": "87569154",
   "metadata": {},
   "outputs": [],
   "source": []
  },
  {
   "cell_type": "code",
   "execution_count": null,
   "id": "4ad30c7d",
   "metadata": {},
   "outputs": [],
   "source": []
  }
 ],
 "metadata": {
  "kernelspec": {
   "display_name": "Python 3 (ipykernel)",
   "language": "python",
   "name": "python3"
  },
  "language_info": {
   "codemirror_mode": {
    "name": "ipython",
    "version": 3
   },
   "file_extension": ".py",
   "mimetype": "text/x-python",
   "name": "python",
   "nbconvert_exporter": "python",
   "pygments_lexer": "ipython3",
   "version": "3.9.13"
  }
 },
 "nbformat": 4,
 "nbformat_minor": 5
}
